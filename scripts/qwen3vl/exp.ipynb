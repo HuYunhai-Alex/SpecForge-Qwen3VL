{
 "cells": [
  {
   "cell_type": "code",
   "execution_count": 1,
   "id": "6b5d1770",
   "metadata": {},
   "outputs": [
    {
     "name": "stderr",
     "output_type": "stream",
     "text": [
      "/home/yh5961/.conda/envs/trl/lib/python3.12/site-packages/torch/cuda/__init__.py:63: FutureWarning: The pynvml package is deprecated. Please install nvidia-ml-py instead. If you did not install pynvml directly, please report this to the maintainers of the package that installed pynvml for you.\n",
      "  import pynvml  # type: ignore[import]\n",
      "/home/yh5961/.conda/envs/trl/lib/python3.12/site-packages/tqdm/auto.py:21: TqdmWarning: IProgress not found. Please update jupyter and ipywidgets. See https://ipywidgets.readthedocs.io/en/stable/user_install.html\n",
      "  from .autonotebook import tqdm as notebook_tqdm\n",
      "Loading checkpoint shards: 100%|██████████| 3/3 [00:03<00:00,  1.30s/it]\n"
     ]
    }
   ],
   "source": [
    "from qwen3vl.modeling_qwen3_vl import Qwen3VLForConditionalGeneration\n",
    "from qwen3vl.processing_qwen3_vl import Qwen3VLProcessor\n",
    "from transformers import AutoImageProcessor, AutoTokenizer, AutoProcessor\n",
    "\n",
    "import os\n",
    "\n",
    "model = Qwen3VLForConditionalGeneration.from_pretrained(\n",
    "    \"/scratch/yh5961/RLSD/SpecForge/qwen3-vl\", torch_dtype=\"auto\", device_map=\"auto\"\n",
    ")\n",
    "\n",
    "# Manual instantiation without video processor\n",
    "tokenizer = AutoTokenizer.from_pretrained(\"/scratch/yh5961/RLSD/SpecForge/qwen3-vl\")\n",
    "image_processor = AutoImageProcessor.from_pretrained(\"/scratch/yh5961/RLSD/SpecForge/qwen3-vl\")\n",
    "\n",
    "processor = Qwen3VLProcessor(\n",
    "    image_processor=image_processor,\n",
    "    tokenizer=tokenizer,\n",
    "    video_processor=None,\n",
    "    chat_template=tokenizer.chat_template,\n",
    ")"
   ]
  },
  {
   "cell_type": "code",
   "execution_count": 2,
   "id": "b83f8715",
   "metadata": {},
   "outputs": [
    {
     "name": "stderr",
     "output_type": "stream",
     "text": [
      "The image processor of type `Qwen2VLImageProcessor` is now loaded as a fast processor by default, even if the model checkpoint was saved with a slow processor. This is a breaking change and may produce slightly different outputs. To continue using the slow processor, instantiate this class with `use_fast=False`. Note that this behavior will be extended to all models in a future release.\n",
      "You have video processor config saved in `preprocessor.json` file which is deprecated. Video processor configs should be saved in their own `video_preprocessor.json` file. You can rename the file or load and save the processor back which renames it automatically. Loading from `preprocessor.json` will be removed in v5.0.\n",
      "The following generation flags are not valid and may be ignored: ['temperature']. Set `TRANSFORMERS_VERBOSITY=info` for more details.\n"
     ]
    },
    {
     "name": "stdout",
     "output_type": "stream",
     "text": [
      "\u001b[1;32m['Of course, here is a detailed description of the image.\\n\\nThis is a heartwarming and serene photograph capturing a moment of connection between a woman and her dog on a beach at sunset or sunrise.\\n\\n---\\n\\n### Scene Description\\n\\n- **Main Subjects:** The central focus is on a young woman with long dark hair and a light-colored Labrador Retriever.\\n- **Setting:** They are sitting together on a wide expanse of sand in front of the ocean. The background features gentle waves rolling onto the shore under a bright, hazy sky.\\n- **Lighting:** The scene is bathed in warm, golden sunlight, characteristic of the \"golden hour\" just after sunrise or before sunset. This creates a soft, dreamy atmosphere and casts a beautiful lens flare from the sun on the right side of the frame.\\n\\n### Interaction\\n\\nThe most striking element of the photo is the interaction between the two subjects:\\n- The woman is sitting cross-legged in the sand, smiling warmly as she looks at the dog.\\n- The dog is sitting upright and has extended its paw to give the woman a high-five. Their paws are touching in the center of the frame, creating a focal point that emphasizes their bond.\\n- The woman appears to be holding a small treat or piece of food in her other hand, suggesting they might have been playing a game like \"tug-of-war\" or \"paw-tay.\"\\n\\n### Details\\n\\n- **Dog:** The Labrador is wearing a colorful patterned harness with red and blue accents. A red leash is visible lying on the sand near them.\\n- **Woman:** She is dressed casually in a plaid flannel shirt over what appear to be rolled-up jeans. She is barefoot, which adds to the relaxed, natural feel of the scene.\\n- **Composition:** The photographer has used a shallow depth of field, keeping the woman and dog in sharp focus while softly blurring the background. This technique effectively draws the viewer\\'s attention directly to the intimate moment shared by the pair.\\n\\nOverall, the image conveys strong themes of companionship, joy, and the simple pleasures of spending time with a beloved pet in a beautiful natural setting.']\u001b[0m\n"
     ]
    }
   ],
   "source": [
    "from transformers import AutoImageProcessor, AutoTokenizer, AutoProcessor\n",
    "\n",
    "aprocessor = AutoProcessor.from_pretrained(\"Qwen/Qwen2.5-VL-3B-Instruct\")\n",
    "\n",
    "processor = Qwen3VLProcessor(\n",
    "    image_processor=image_processor,\n",
    "    tokenizer=tokenizer,\n",
    "    video_processor=None,\n",
    "    chat_template=aprocessor.chat_template,\n",
    ")\n",
    "\n",
    "messages = [\n",
    "    {\n",
    "        \"role\": \"user\",\n",
    "        \"content\": [\n",
    "            {\n",
    "                \"type\": \"image\",\n",
    "                \"image\": \"https://qianwen-res.oss-cn-beijing.aliyuncs.com/Qwen-VL/assets/demo.jpeg\",\n",
    "            },\n",
    "            {\"type\": \"text\", \"text\": \"Tell me about this image.\"},\n",
    "        ],\n",
    "    }\n",
    "]\n",
    "\n",
    "# Preparation for inference\n",
    "text = processor.apply_chat_template(\n",
    "    messages, tokenize=False, add_generation_prompt=True\n",
    ")\n",
    "from qwen_vl_utils import process_vision_info\n",
    "image_inputs, video_inputs = process_vision_info(messages)\n",
    "inputs = processor(\n",
    "    text=[text],\n",
    "    images=image_inputs,\n",
    "    videos=video_inputs,\n",
    "    padding=True,\n",
    "    return_tensors=\"pt\",\n",
    ")\n",
    "inputs = inputs.to(\"cuda\")\n",
    "\n",
    "generated_ids = model.generate(**inputs, max_new_tokens=1024, do_sample=False)\n",
    "generated_ids_trimmed = [\n",
    "    out_ids[len(in_ids) :] for in_ids, out_ids in zip(inputs.input_ids, generated_ids)\n",
    "]\n",
    "output_text = processor.tokenizer.batch_decode(\n",
    "    generated_ids_trimmed, skip_special_tokens=True, clean_up_tokenization_spaces=False\n",
    ")\n",
    "\n",
    "print(\"\\033[1;32m\" + str(output_text) + \"\\033[0m\")"
   ]
  },
  {
   "cell_type": "code",
   "execution_count": 5,
   "id": "b8474458",
   "metadata": {},
   "outputs": [
    {
     "name": "stderr",
     "output_type": "stream",
     "text": [
      "The following generation flags are not valid and may be ignored: ['temperature']. Set `TRANSFORMERS_VERBOSITY=info` for more details.\n"
     ]
    },
    {
     "name": "stdout",
     "output_type": "stream",
     "text": [
      "\u001b[1;32m['Of course, here is a detailed description of the image.\\n\\nThis is a heartwarming and serene photograph capturing a tender moment between a woman and her dog on a beach at sunset or sunrise.\\n\\n### Scene Description\\n\\n- **Setting:** The scene is set on a wide, sandy beach with the ocean in the background. Gentle waves are visible breaking near the shore.\\n- **Lighting:** The lighting is soft and warm, characteristic of the \"golden hour\" just after sunrise or before sunset. This creates a beautiful lens flare effect on the right side of the frame, bathing the subjects in a warm glow.\\n- **Atmosphere:** The overall mood is peaceful, joyful, and intimate. The vastness of the sky and sea contrasts with the close bond shared by the two main subjects.\\n\\n---\\n\\n### Subjects\\n\\nThe central focus of the image is a woman and a large dog sitting together on the sand.\\n\\n- **The Woman:**\\n    - She is sitting cross-legged on the sand, turned towards the dog.\\n    - She has long, dark hair and is smiling warmly as she looks at the dog.\\n    - She is wearing a plaid flannel shirt (in shades of blue and white) over dark pants.\\n    - On her left wrist, she wears a white watch or fitness tracker.\\n    - In her hands, she holds what appears to be a small treat or a piece of food.\\n\\n- **The Dog:**\\n    - The dog is a large breed, likely a Labrador Retriever, with light-colored fur that could be yellow or cream.\\n    - It is sitting upright on its hind legs, facing the woman.\\n    - The dog is wearing a colorful harness with a pattern of small flowers or paw prints.\\n    - It is reaching out its front paws to gently touch the woman\\'s hands, as if they are giving each other a high-five or sharing a special moment.\\n\\n---\\n\\n### Interaction\\n\\nThe interaction between the woman and the dog is the emotional core of the image. They are engaged in a simple, yet deeply affectionate gesture. The dog\\'s posture—sitting up attentively and extending its paws—is one of trust and eagerness. The woman\\'s smile and gentle touch back indicate a strong, loving connection. The act of sharing a treat further enhances the sense of companionship and care.\\n\\nIn summary, the image beautifully captures a quiet, happy moment of connection between a human and her pet during a tranquil time of day.']\u001b[0m\n"
     ]
    }
   ],
   "source": [
    "processor = Qwen3VLProcessor(\n",
    "    image_processor=image_processor,\n",
    "    tokenizer=tokenizer,\n",
    "    video_processor=None,\n",
    ")\n",
    "\n",
    "text = \"<|im_start|>user\\n<|vision_start|><|image_pad|><|vision_end|>Tell me about this image.<|im_end|>\\n<|im_start|>assistant\\n\"\n",
    "\n",
    "# Process the image\n",
    "from PIL import Image\n",
    "import requests\n",
    "\n",
    "image_url = \"https://qianwen-res.oss-cn-beijing.aliyuncs.com/Qwen-VL/assets/demo.jpeg\"\n",
    "image = Image.open(requests.get(image_url, stream=True).raw)\n",
    "# image = Image.open(os.path.join(curr_path, \"modelfiles\", \"receipt.png\"))\n",
    "\n",
    "inputs = processor(\n",
    "    text=[text],\n",
    "    images=[image],\n",
    "    videos=None,\n",
    "    padding=True,\n",
    "    return_tensors=\"pt\",\n",
    ")\n",
    "inputs = inputs.to(\"cuda\")\n",
    "\n",
    "# Inference: Generation of the output\n",
    "generated_ids = model.generate(**inputs, max_new_tokens=1024, do_sample=False)\n",
    "generated_ids_trimmed = [\n",
    "    out_ids[len(in_ids) :] for in_ids, out_ids in zip(inputs.input_ids, generated_ids)\n",
    "]\n",
    "output_text = processor.tokenizer.batch_decode(\n",
    "    generated_ids_trimmed, skip_special_tokens=True, clean_up_tokenization_spaces=False\n",
    ")\n",
    "print(\"\\033[1;32m\" + str(output_text) + \"\\033[0m\")"
   ]
  }
 ],
 "metadata": {
  "kernelspec": {
   "display_name": "trl",
   "language": "python",
   "name": "python3"
  },
  "language_info": {
   "codemirror_mode": {
    "name": "ipython",
    "version": 3
   },
   "file_extension": ".py",
   "mimetype": "text/x-python",
   "name": "python",
   "nbconvert_exporter": "python",
   "pygments_lexer": "ipython3",
   "version": "3.12.11"
  }
 },
 "nbformat": 4,
 "nbformat_minor": 5
}
